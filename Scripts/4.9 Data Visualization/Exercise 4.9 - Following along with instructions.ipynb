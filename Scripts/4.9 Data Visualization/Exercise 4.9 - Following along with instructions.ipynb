{
 "cells": [
  {
   "cell_type": "markdown",
   "id": "e8ee29bb",
   "metadata": {},
   "source": [
    "# Importing libraries"
   ]
  },
  {
   "cell_type": "code",
   "execution_count": 1,
   "id": "b0a2c87f",
   "metadata": {},
   "outputs": [],
   "source": [
    "# Import libraries\n",
    "import pandas as pd\n",
    "import numpy as np\n",
    "import os\n",
    "import matplotlib.pyplot as plt\n",
    "import seaborn as sns\n",
    "import scipy"
   ]
  },
  {
   "cell_type": "markdown",
   "id": "ed4063fe",
   "metadata": {},
   "source": [
    "# Importing data"
   ]
  },
  {
   "cell_type": "code",
   "execution_count": 2,
   "id": "623f7258",
   "metadata": {},
   "outputs": [],
   "source": [
    "# Defining the folder path\n",
    "path = r'/Users/yusufsalk/Documents/Instacart Basket Analysis'"
   ]
  },
  {
   "cell_type": "code",
   "execution_count": 3,
   "id": "e9a973a6",
   "metadata": {},
   "outputs": [],
   "source": [
    "ords_prods_merge = pd.read_pickle(os.path.join(path, '02 Data', 'Prepared Data', 'orders_products_merged_updated_2.pkl'))"
   ]
  },
  {
   "cell_type": "code",
   "execution_count": 4,
   "id": "6542c548",
   "metadata": {},
   "outputs": [
    {
     "data": {
      "text/html": [
       "<div>\n",
       "<style scoped>\n",
       "    .dataframe tbody tr th:only-of-type {\n",
       "        vertical-align: middle;\n",
       "    }\n",
       "\n",
       "    .dataframe tbody tr th {\n",
       "        vertical-align: top;\n",
       "    }\n",
       "\n",
       "    .dataframe thead th {\n",
       "        text-align: right;\n",
       "    }\n",
       "</style>\n",
       "<table border=\"1\" class=\"dataframe\">\n",
       "  <thead>\n",
       "    <tr style=\"text-align: right;\">\n",
       "      <th></th>\n",
       "      <th>order_id</th>\n",
       "      <th>user_id</th>\n",
       "      <th>order_number</th>\n",
       "      <th>orders_day_of_week</th>\n",
       "      <th>order_hour_of_day</th>\n",
       "      <th>days_since_last_order</th>\n",
       "      <th>product_id</th>\n",
       "      <th>add_to_cart_order</th>\n",
       "      <th>reordered</th>\n",
       "      <th>product_name</th>\n",
       "      <th>...</th>\n",
       "      <th>price_range_loc</th>\n",
       "      <th>busiest_day</th>\n",
       "      <th>busiest_days</th>\n",
       "      <th>busiest_period_of_day</th>\n",
       "      <th>max_order</th>\n",
       "      <th>loyalty_flag</th>\n",
       "      <th>mean_price</th>\n",
       "      <th>spending_flag</th>\n",
       "      <th>median_of_days</th>\n",
       "      <th>frequency_flag</th>\n",
       "    </tr>\n",
       "  </thead>\n",
       "  <tbody>\n",
       "    <tr>\n",
       "      <th>0</th>\n",
       "      <td>2539329</td>\n",
       "      <td>1</td>\n",
       "      <td>1</td>\n",
       "      <td>2</td>\n",
       "      <td>8</td>\n",
       "      <td>NaN</td>\n",
       "      <td>196</td>\n",
       "      <td>1</td>\n",
       "      <td>0</td>\n",
       "      <td>Soda</td>\n",
       "      <td>...</td>\n",
       "      <td>Mid-range product</td>\n",
       "      <td>Regularly busy</td>\n",
       "      <td>Regularly busy</td>\n",
       "      <td>Average orders</td>\n",
       "      <td>10</td>\n",
       "      <td>New customer</td>\n",
       "      <td>6.367797</td>\n",
       "      <td>Low spender</td>\n",
       "      <td>20.5</td>\n",
       "      <td>Non-frequent customer</td>\n",
       "    </tr>\n",
       "    <tr>\n",
       "      <th>1</th>\n",
       "      <td>2398795</td>\n",
       "      <td>1</td>\n",
       "      <td>2</td>\n",
       "      <td>3</td>\n",
       "      <td>7</td>\n",
       "      <td>15.0</td>\n",
       "      <td>196</td>\n",
       "      <td>1</td>\n",
       "      <td>1</td>\n",
       "      <td>Soda</td>\n",
       "      <td>...</td>\n",
       "      <td>Mid-range product</td>\n",
       "      <td>Regularly busy</td>\n",
       "      <td>Least busy days</td>\n",
       "      <td>Average orders</td>\n",
       "      <td>10</td>\n",
       "      <td>New customer</td>\n",
       "      <td>6.367797</td>\n",
       "      <td>Low spender</td>\n",
       "      <td>20.5</td>\n",
       "      <td>Non-frequent customer</td>\n",
       "    </tr>\n",
       "    <tr>\n",
       "      <th>2</th>\n",
       "      <td>473747</td>\n",
       "      <td>1</td>\n",
       "      <td>3</td>\n",
       "      <td>3</td>\n",
       "      <td>12</td>\n",
       "      <td>21.0</td>\n",
       "      <td>196</td>\n",
       "      <td>1</td>\n",
       "      <td>1</td>\n",
       "      <td>Soda</td>\n",
       "      <td>...</td>\n",
       "      <td>Mid-range product</td>\n",
       "      <td>Regularly busy</td>\n",
       "      <td>Least busy days</td>\n",
       "      <td>Most orders</td>\n",
       "      <td>10</td>\n",
       "      <td>New customer</td>\n",
       "      <td>6.367797</td>\n",
       "      <td>Low spender</td>\n",
       "      <td>20.5</td>\n",
       "      <td>Non-frequent customer</td>\n",
       "    </tr>\n",
       "    <tr>\n",
       "      <th>3</th>\n",
       "      <td>2254736</td>\n",
       "      <td>1</td>\n",
       "      <td>4</td>\n",
       "      <td>4</td>\n",
       "      <td>7</td>\n",
       "      <td>29.0</td>\n",
       "      <td>196</td>\n",
       "      <td>1</td>\n",
       "      <td>1</td>\n",
       "      <td>Soda</td>\n",
       "      <td>...</td>\n",
       "      <td>Mid-range product</td>\n",
       "      <td>Least busy</td>\n",
       "      <td>Least busy days</td>\n",
       "      <td>Average orders</td>\n",
       "      <td>10</td>\n",
       "      <td>New customer</td>\n",
       "      <td>6.367797</td>\n",
       "      <td>Low spender</td>\n",
       "      <td>20.5</td>\n",
       "      <td>Non-frequent customer</td>\n",
       "    </tr>\n",
       "    <tr>\n",
       "      <th>4</th>\n",
       "      <td>431534</td>\n",
       "      <td>1</td>\n",
       "      <td>5</td>\n",
       "      <td>4</td>\n",
       "      <td>15</td>\n",
       "      <td>28.0</td>\n",
       "      <td>196</td>\n",
       "      <td>1</td>\n",
       "      <td>1</td>\n",
       "      <td>Soda</td>\n",
       "      <td>...</td>\n",
       "      <td>Mid-range product</td>\n",
       "      <td>Least busy</td>\n",
       "      <td>Least busy days</td>\n",
       "      <td>Most orders</td>\n",
       "      <td>10</td>\n",
       "      <td>New customer</td>\n",
       "      <td>6.367797</td>\n",
       "      <td>Low spender</td>\n",
       "      <td>20.5</td>\n",
       "      <td>Non-frequent customer</td>\n",
       "    </tr>\n",
       "  </tbody>\n",
       "</table>\n",
       "<p>5 rows × 24 columns</p>\n",
       "</div>"
      ],
      "text/plain": [
       "   order_id  user_id  order_number  orders_day_of_week  order_hour_of_day  \\\n",
       "0   2539329        1             1                   2                  8   \n",
       "1   2398795        1             2                   3                  7   \n",
       "2    473747        1             3                   3                 12   \n",
       "3   2254736        1             4                   4                  7   \n",
       "4    431534        1             5                   4                 15   \n",
       "\n",
       "   days_since_last_order  product_id  add_to_cart_order  reordered  \\\n",
       "0                    NaN         196                  1          0   \n",
       "1                   15.0         196                  1          1   \n",
       "2                   21.0         196                  1          1   \n",
       "3                   29.0         196                  1          1   \n",
       "4                   28.0         196                  1          1   \n",
       "\n",
       "  product_name  ...    price_range_loc     busiest_day     busiest_days  \\\n",
       "0         Soda  ...  Mid-range product  Regularly busy   Regularly busy   \n",
       "1         Soda  ...  Mid-range product  Regularly busy  Least busy days   \n",
       "2         Soda  ...  Mid-range product  Regularly busy  Least busy days   \n",
       "3         Soda  ...  Mid-range product      Least busy  Least busy days   \n",
       "4         Soda  ...  Mid-range product      Least busy  Least busy days   \n",
       "\n",
       "  busiest_period_of_day max_order  loyalty_flag mean_price spending_flag  \\\n",
       "0        Average orders        10  New customer   6.367797   Low spender   \n",
       "1        Average orders        10  New customer   6.367797   Low spender   \n",
       "2           Most orders        10  New customer   6.367797   Low spender   \n",
       "3        Average orders        10  New customer   6.367797   Low spender   \n",
       "4           Most orders        10  New customer   6.367797   Low spender   \n",
       "\n",
       "   median_of_days         frequency_flag  \n",
       "0            20.5  Non-frequent customer  \n",
       "1            20.5  Non-frequent customer  \n",
       "2            20.5  Non-frequent customer  \n",
       "3            20.5  Non-frequent customer  \n",
       "4            20.5  Non-frequent customer  \n",
       "\n",
       "[5 rows x 24 columns]"
      ]
     },
     "execution_count": 4,
     "metadata": {},
     "output_type": "execute_result"
    }
   ],
   "source": [
    "# Check the output\n",
    "ords_prods_merge.head()"
   ]
  },
  {
   "cell_type": "code",
   "execution_count": 5,
   "id": "ac8c4a21",
   "metadata": {},
   "outputs": [
    {
     "data": {
      "text/plain": [
       "(32404859, 24)"
      ]
     },
     "execution_count": 5,
     "metadata": {},
     "output_type": "execute_result"
    }
   ],
   "source": [
    "ords_prods_merge.shape"
   ]
  },
  {
   "cell_type": "markdown",
   "id": "14afcf29",
   "metadata": {},
   "source": [
    "# Creating bar chart"
   ]
  },
  {
   "cell_type": "code",
   "execution_count": 7,
   "id": "1f159612",
   "metadata": {},
   "outputs": [
    {
     "data": {
      "text/plain": [
       "<Axes: >"
      ]
     },
     "execution_count": 7,
     "metadata": {},
     "output_type": "execute_result"
    },
    {
     "data": {
      "image/png": "[encoded data removed]",
      "text/plain": [
       "<Figure size 640x480 with 1 Axes>"
      ]
     },
     "metadata": {},
     "output_type": "display_data"
    }
   ],
   "source": [
    "# Create a bar chart\n",
    "ords_prods_merge['orders_day_of_week'].value_counts().plot.bar()"
   ]
  },
  {
   "cell_type": "code",
   "execution_count": 8,
   "id": "4e91a4af",
   "metadata": {},
   "outputs": [
    {
     "data": {
      "image/png": "[encoded data removed]",
      "text/plain": [
       "<Figure size 640x480 with 1 Axes>"
      ]
     },
     "metadata": {},
     "output_type": "display_data"
    }
   ],
   "source": [
    "# Sorting the chart according to their index order\n",
    "bar = ords_prods_merge['orders_day_of_week'].value_counts().sort_index().plot.bar()"
   ]
  },
  {
   "cell_type": "code",
   "execution_count": 9,
   "id": "39806838",
   "metadata": {},
   "outputs": [
    {
     "data": {
      "text/plain": [
       "0    6204182\n",
       "1    5660230\n",
       "2    4213830\n",
       "3    3840534\n",
       "4    3783802\n",
       "5    4205791\n",
       "6    4496490\n",
       "Name: orders_day_of_week, dtype: int64"
      ]
     },
     "execution_count": 9,
     "metadata": {},
     "output_type": "execute_result"
    }
   ],
   "source": [
    "# Sorting the frequency according to their index order\n",
    "ords_prods_merge['orders_day_of_week'].value_counts().sort_index()"
   ]
  },
  {
   "cell_type": "code",
   "execution_count": 10,
   "id": "26b749d1",
   "metadata": {},
   "outputs": [
    {
     "data": {
      "image/png": "[encoded data removed]",
      "text/plain": [
       "<Figure size 640x480 with 1 Axes>"
      ]
     },
     "metadata": {},
     "output_type": "display_data"
    }
   ],
   "source": [
    "# Changing color in the chart\n",
    "bar = ords_prods_merge['orders_day_of_week'].value_counts().plot.bar(color = ['purple', 'red', 'pink', 'orange', 'yellow', 'green', 'blue'])"
   ]
  },
  {
   "cell_type": "markdown",
   "id": "0520f107",
   "metadata": {},
   "source": [
    "# Exporting chart"
   ]
  },
  {
   "cell_type": "code",
   "execution_count": 11,
   "id": "d1823bbc",
   "metadata": {},
   "outputs": [
    {
     "data": {
      "image/png": "[encoded data removed]",
      "text/plain": [
       "<Figure size 640x480 with 1 Axes>"
      ]
     },
     "execution_count": 11,
     "metadata": {},
     "output_type": "execute_result"
    }
   ],
   "source": [
    "# Calling the chart\n",
    "bar.figure"
   ]
  },
  {
   "cell_type": "code",
   "execution_count": 23,
   "id": "eeafecf3",
   "metadata": {},
   "outputs": [],
   "source": [
    "# Exporting the chart\n",
    "bar.figure.savefig(os.path.join(path, '04 Analysis', 'Visualizations', 'bar_orders_dow.png'))"
   ]
  },
  {
   "cell_type": "markdown",
   "id": "b960619d",
   "metadata": {},
   "source": [
    "# Creating a histogram"
   ]
  },
  {
   "cell_type": "code",
   "execution_count": 13,
   "id": "157f4054",
   "metadata": {},
   "outputs": [
    {
     "data": {
      "text/plain": [
       "<Axes: ylabel='Frequency'>"
      ]
     },
     "execution_count": 13,
     "metadata": {},
     "output_type": "execute_result"
    },
    {
     "data": {
      "image/png": "[encoded data removed]",
      "text/plain": [
       "<Figure size 640x480 with 1 Axes>"
      ]
     },
     "metadata": {},
     "output_type": "display_data"
    }
   ],
   "source": [
    "ords_prods_merge['prices'].plot.hist(bins = 25)"
   ]
  },
  {
   "cell_type": "code",
   "execution_count": 14,
   "id": "9be4af2c",
   "metadata": {},
   "outputs": [
    {
     "data": {
      "text/plain": [
       "count    3.240486e+07\n",
       "mean     1.198023e+01\n",
       "std      4.956554e+02\n",
       "min      1.000000e+00\n",
       "25%      4.200000e+00\n",
       "50%      7.400000e+00\n",
       "75%      1.130000e+01\n",
       "max      9.999900e+04\n",
       "Name: prices, dtype: float64"
      ]
     },
     "execution_count": 14,
     "metadata": {},
     "output_type": "execute_result"
    }
   ],
   "source": [
    "# Looking descriptive statistics for the prices column\n",
    "ords_prods_merge['prices'].describe()"
   ]
  },
  {
   "cell_type": "code",
   "execution_count": 15,
   "id": "dd84c605",
   "metadata": {},
   "outputs": [
    {
     "data": {
      "text/plain": [
       "11.980225638383454"
      ]
     },
     "execution_count": 15,
     "metadata": {},
     "output_type": "execute_result"
    }
   ],
   "source": [
    "ords_prods_merge['prices'].mean()"
   ]
  },
  {
   "cell_type": "code",
   "execution_count": 16,
   "id": "d82346c1",
   "metadata": {},
   "outputs": [
    {
     "data": {
      "text/plain": [
       "7.4"
      ]
     },
     "execution_count": 16,
     "metadata": {},
     "output_type": "execute_result"
    }
   ],
   "source": [
    "ords_prods_merge['prices'].median()"
   ]
  },
  {
   "cell_type": "code",
   "execution_count": 17,
   "id": "b50b9454",
   "metadata": {},
   "outputs": [
    {
     "data": {
      "text/plain": [
       "99999.0"
      ]
     },
     "execution_count": 17,
     "metadata": {},
     "output_type": "execute_result"
    }
   ],
   "source": [
    "ords_prods_merge['prices'].max()"
   ]
  },
  {
   "cell_type": "markdown",
   "id": "c8d44014",
   "metadata": {},
   "source": [
    "# Creating a scatterplot"
   ]
  },
  {
   "cell_type": "code",
   "execution_count": 18,
   "id": "40447545",
   "metadata": {},
   "outputs": [
    {
     "data": {
      "text/plain": [
       "<Axes: xlabel='prices', ylabel='prices'>"
      ]
     },
     "execution_count": 18,
     "metadata": {},
     "output_type": "execute_result"
    },
    {
     "data": {
      "image/png": "[encoded data removed]",
      "text/plain": [
       "<Figure size 640x480 with 1 Axes>"
      ]
     },
     "metadata": {},
     "output_type": "display_data"
    }
   ],
   "source": [
    "sns.scatterplot(x = 'prices', y = 'prices', data = ords_prods_merge)"
   ]
  },
  {
   "cell_type": "code",
   "execution_count": 6,
   "id": "e6b70cf8",
   "metadata": {},
   "outputs": [
    {
     "data": {
      "text/html": [
       "<div>\n",
       "<style scoped>\n",
       "    .dataframe tbody tr th:only-of-type {\n",
       "        vertical-align: middle;\n",
       "    }\n",
       "\n",
       "    .dataframe tbody tr th {\n",
       "        vertical-align: top;\n",
       "    }\n",
       "\n",
       "    .dataframe thead th {\n",
       "        text-align: right;\n",
       "    }\n",
       "</style>\n",
       "<table border=\"1\" class=\"dataframe\">\n",
       "  <thead>\n",
       "    <tr style=\"text-align: right;\">\n",
       "      <th></th>\n",
       "      <th>order_id</th>\n",
       "      <th>user_id</th>\n",
       "      <th>order_number</th>\n",
       "      <th>orders_day_of_week</th>\n",
       "      <th>order_hour_of_day</th>\n",
       "      <th>days_since_last_order</th>\n",
       "      <th>product_id</th>\n",
       "      <th>add_to_cart_order</th>\n",
       "      <th>reordered</th>\n",
       "      <th>product_name</th>\n",
       "      <th>...</th>\n",
       "      <th>price_range_loc</th>\n",
       "      <th>busiest_day</th>\n",
       "      <th>busiest_days</th>\n",
       "      <th>busiest_period_of_day</th>\n",
       "      <th>max_order</th>\n",
       "      <th>loyalty_flag</th>\n",
       "      <th>mean_price</th>\n",
       "      <th>spending_flag</th>\n",
       "      <th>median_of_days</th>\n",
       "      <th>frequency_flag</th>\n",
       "    </tr>\n",
       "  </thead>\n",
       "  <tbody>\n",
       "    <tr>\n",
       "      <th>10030345</th>\n",
       "      <td>912404</td>\n",
       "      <td>17</td>\n",
       "      <td>12</td>\n",
       "      <td>2</td>\n",
       "      <td>14</td>\n",
       "      <td>5.0</td>\n",
       "      <td>21553</td>\n",
       "      <td>5</td>\n",
       "      <td>0</td>\n",
       "      <td>Lowfat 2% Milkfat Cottage Cheese</td>\n",
       "      <td>...</td>\n",
       "      <td>High-range product</td>\n",
       "      <td>Regularly busy</td>\n",
       "      <td>Regularly busy</td>\n",
       "      <td>Most orders</td>\n",
       "      <td>40</td>\n",
       "      <td>Regular customer</td>\n",
       "      <td>108.648299</td>\n",
       "      <td>High spender</td>\n",
       "      <td>5.0</td>\n",
       "      <td>Frequent customer</td>\n",
       "    </tr>\n",
       "    <tr>\n",
       "      <th>10030346</th>\n",
       "      <td>603376</td>\n",
       "      <td>17</td>\n",
       "      <td>22</td>\n",
       "      <td>6</td>\n",
       "      <td>16</td>\n",
       "      <td>4.0</td>\n",
       "      <td>21553</td>\n",
       "      <td>3</td>\n",
       "      <td>1</td>\n",
       "      <td>Lowfat 2% Milkfat Cottage Cheese</td>\n",
       "      <td>...</td>\n",
       "      <td>High-range product</td>\n",
       "      <td>Regularly busy</td>\n",
       "      <td>Regularly busy</td>\n",
       "      <td>Most orders</td>\n",
       "      <td>40</td>\n",
       "      <td>Regular customer</td>\n",
       "      <td>108.648299</td>\n",
       "      <td>High spender</td>\n",
       "      <td>5.0</td>\n",
       "      <td>Frequent customer</td>\n",
       "    </tr>\n",
       "    <tr>\n",
       "      <th>10030347</th>\n",
       "      <td>3264360</td>\n",
       "      <td>135</td>\n",
       "      <td>2</td>\n",
       "      <td>2</td>\n",
       "      <td>21</td>\n",
       "      <td>13.0</td>\n",
       "      <td>21553</td>\n",
       "      <td>6</td>\n",
       "      <td>0</td>\n",
       "      <td>Lowfat 2% Milkfat Cottage Cheese</td>\n",
       "      <td>...</td>\n",
       "      <td>High-range product</td>\n",
       "      <td>Regularly busy</td>\n",
       "      <td>Regularly busy</td>\n",
       "      <td>Average orders</td>\n",
       "      <td>4</td>\n",
       "      <td>New customer</td>\n",
       "      <td>1154.792308</td>\n",
       "      <td>High spender</td>\n",
       "      <td>12.0</td>\n",
       "      <td>Regular customer</td>\n",
       "    </tr>\n",
       "    <tr>\n",
       "      <th>10030348</th>\n",
       "      <td>892534</td>\n",
       "      <td>135</td>\n",
       "      <td>3</td>\n",
       "      <td>0</td>\n",
       "      <td>8</td>\n",
       "      <td>12.0</td>\n",
       "      <td>21553</td>\n",
       "      <td>3</td>\n",
       "      <td>1</td>\n",
       "      <td>Lowfat 2% Milkfat Cottage Cheese</td>\n",
       "      <td>...</td>\n",
       "      <td>High-range product</td>\n",
       "      <td>Busiest day</td>\n",
       "      <td>Busiest days</td>\n",
       "      <td>Average orders</td>\n",
       "      <td>4</td>\n",
       "      <td>New customer</td>\n",
       "      <td>1154.792308</td>\n",
       "      <td>High spender</td>\n",
       "      <td>12.0</td>\n",
       "      <td>Regular customer</td>\n",
       "    </tr>\n",
       "    <tr>\n",
       "      <th>10030349</th>\n",
       "      <td>229704</td>\n",
       "      <td>342</td>\n",
       "      <td>8</td>\n",
       "      <td>1</td>\n",
       "      <td>19</td>\n",
       "      <td>30.0</td>\n",
       "      <td>21553</td>\n",
       "      <td>9</td>\n",
       "      <td>0</td>\n",
       "      <td>Lowfat 2% Milkfat Cottage Cheese</td>\n",
       "      <td>...</td>\n",
       "      <td>High-range product</td>\n",
       "      <td>Regularly busy</td>\n",
       "      <td>Busiest days</td>\n",
       "      <td>Average orders</td>\n",
       "      <td>16</td>\n",
       "      <td>Regular customer</td>\n",
       "      <td>114.426619</td>\n",
       "      <td>High spender</td>\n",
       "      <td>23.0</td>\n",
       "      <td>Non-frequent customer</td>\n",
       "    </tr>\n",
       "    <tr>\n",
       "      <th>...</th>\n",
       "      <td>...</td>\n",
       "      <td>...</td>\n",
       "      <td>...</td>\n",
       "      <td>...</td>\n",
       "      <td>...</td>\n",
       "      <td>...</td>\n",
       "      <td>...</td>\n",
       "      <td>...</td>\n",
       "      <td>...</td>\n",
       "      <td>...</td>\n",
       "      <td>...</td>\n",
       "      <td>...</td>\n",
       "      <td>...</td>\n",
       "      <td>...</td>\n",
       "      <td>...</td>\n",
       "      <td>...</td>\n",
       "      <td>...</td>\n",
       "      <td>...</td>\n",
       "      <td>...</td>\n",
       "      <td>...</td>\n",
       "      <td>...</td>\n",
       "    </tr>\n",
       "    <tr>\n",
       "      <th>29166209</th>\n",
       "      <td>2249946</td>\n",
       "      <td>204099</td>\n",
       "      <td>29</td>\n",
       "      <td>0</td>\n",
       "      <td>8</td>\n",
       "      <td>4.0</td>\n",
       "      <td>33664</td>\n",
       "      <td>1</td>\n",
       "      <td>0</td>\n",
       "      <td>2 % Reduced Fat  Milk</td>\n",
       "      <td>...</td>\n",
       "      <td>High-range product</td>\n",
       "      <td>Busiest day</td>\n",
       "      <td>Busiest days</td>\n",
       "      <td>Average orders</td>\n",
       "      <td>39</td>\n",
       "      <td>Regular customer</td>\n",
       "      <td>1106.743956</td>\n",
       "      <td>High spender</td>\n",
       "      <td>4.0</td>\n",
       "      <td>Frequent customer</td>\n",
       "    </tr>\n",
       "    <tr>\n",
       "      <th>29166210</th>\n",
       "      <td>2363282</td>\n",
       "      <td>204099</td>\n",
       "      <td>31</td>\n",
       "      <td>0</td>\n",
       "      <td>9</td>\n",
       "      <td>2.0</td>\n",
       "      <td>33664</td>\n",
       "      <td>1</td>\n",
       "      <td>1</td>\n",
       "      <td>2 % Reduced Fat  Milk</td>\n",
       "      <td>...</td>\n",
       "      <td>High-range product</td>\n",
       "      <td>Busiest day</td>\n",
       "      <td>Busiest days</td>\n",
       "      <td>Most orders</td>\n",
       "      <td>39</td>\n",
       "      <td>Regular customer</td>\n",
       "      <td>1106.743956</td>\n",
       "      <td>High spender</td>\n",
       "      <td>4.0</td>\n",
       "      <td>Frequent customer</td>\n",
       "    </tr>\n",
       "    <tr>\n",
       "      <th>29166211</th>\n",
       "      <td>3181945</td>\n",
       "      <td>204395</td>\n",
       "      <td>13</td>\n",
       "      <td>3</td>\n",
       "      <td>15</td>\n",
       "      <td>8.0</td>\n",
       "      <td>33664</td>\n",
       "      <td>25</td>\n",
       "      <td>0</td>\n",
       "      <td>2 % Reduced Fat  Milk</td>\n",
       "      <td>...</td>\n",
       "      <td>High-range product</td>\n",
       "      <td>Regularly busy</td>\n",
       "      <td>Least busy days</td>\n",
       "      <td>Most orders</td>\n",
       "      <td>15</td>\n",
       "      <td>Regular customer</td>\n",
       "      <td>451.153540</td>\n",
       "      <td>High spender</td>\n",
       "      <td>5.0</td>\n",
       "      <td>Frequent customer</td>\n",
       "    </tr>\n",
       "    <tr>\n",
       "      <th>29166212</th>\n",
       "      <td>2486215</td>\n",
       "      <td>205227</td>\n",
       "      <td>7</td>\n",
       "      <td>3</td>\n",
       "      <td>20</td>\n",
       "      <td>4.0</td>\n",
       "      <td>33664</td>\n",
       "      <td>8</td>\n",
       "      <td>0</td>\n",
       "      <td>2 % Reduced Fat  Milk</td>\n",
       "      <td>...</td>\n",
       "      <td>High-range product</td>\n",
       "      <td>Regularly busy</td>\n",
       "      <td>Least busy days</td>\n",
       "      <td>Average orders</td>\n",
       "      <td>12</td>\n",
       "      <td>Regular customer</td>\n",
       "      <td>1178.381871</td>\n",
       "      <td>High spender</td>\n",
       "      <td>12.0</td>\n",
       "      <td>Regular customer</td>\n",
       "    </tr>\n",
       "    <tr>\n",
       "      <th>29166213</th>\n",
       "      <td>2232716</td>\n",
       "      <td>205227</td>\n",
       "      <td>10</td>\n",
       "      <td>0</td>\n",
       "      <td>11</td>\n",
       "      <td>4.0</td>\n",
       "      <td>33664</td>\n",
       "      <td>23</td>\n",
       "      <td>1</td>\n",
       "      <td>2 % Reduced Fat  Milk</td>\n",
       "      <td>...</td>\n",
       "      <td>High-range product</td>\n",
       "      <td>Busiest day</td>\n",
       "      <td>Busiest days</td>\n",
       "      <td>Most orders</td>\n",
       "      <td>12</td>\n",
       "      <td>Regular customer</td>\n",
       "      <td>1178.381871</td>\n",
       "      <td>High spender</td>\n",
       "      <td>12.0</td>\n",
       "      <td>Regular customer</td>\n",
       "    </tr>\n",
       "  </tbody>\n",
       "</table>\n",
       "<p>5127 rows × 24 columns</p>\n",
       "</div>"
      ],
      "text/plain": [
       "          order_id  user_id  order_number  orders_day_of_week  \\\n",
       "10030345    912404       17            12                   2   \n",
       "10030346    603376       17            22                   6   \n",
       "10030347   3264360      135             2                   2   \n",
       "10030348    892534      135             3                   0   \n",
       "10030349    229704      342             8                   1   \n",
       "...            ...      ...           ...                 ...   \n",
       "29166209   2249946   204099            29                   0   \n",
       "29166210   2363282   204099            31                   0   \n",
       "29166211   3181945   204395            13                   3   \n",
       "29166212   2486215   205227             7                   3   \n",
       "29166213   2232716   205227            10                   0   \n",
       "\n",
       "          order_hour_of_day  days_since_last_order  product_id  \\\n",
       "10030345                 14                    5.0       21553   \n",
       "10030346                 16                    4.0       21553   \n",
       "10030347                 21                   13.0       21553   \n",
       "10030348                  8                   12.0       21553   \n",
       "10030349                 19                   30.0       21553   \n",
       "...                     ...                    ...         ...   \n",
       "29166209                  8                    4.0       33664   \n",
       "29166210                  9                    2.0       33664   \n",
       "29166211                 15                    8.0       33664   \n",
       "29166212                 20                    4.0       33664   \n",
       "29166213                 11                    4.0       33664   \n",
       "\n",
       "          add_to_cart_order  reordered                      product_name  ...  \\\n",
       "10030345                  5          0  Lowfat 2% Milkfat Cottage Cheese  ...   \n",
       "10030346                  3          1  Lowfat 2% Milkfat Cottage Cheese  ...   \n",
       "10030347                  6          0  Lowfat 2% Milkfat Cottage Cheese  ...   \n",
       "10030348                  3          1  Lowfat 2% Milkfat Cottage Cheese  ...   \n",
       "10030349                  9          0  Lowfat 2% Milkfat Cottage Cheese  ...   \n",
       "...                     ...        ...                               ...  ...   \n",
       "29166209                  1          0             2 % Reduced Fat  Milk  ...   \n",
       "29166210                  1          1             2 % Reduced Fat  Milk  ...   \n",
       "29166211                 25          0             2 % Reduced Fat  Milk  ...   \n",
       "29166212                  8          0             2 % Reduced Fat  Milk  ...   \n",
       "29166213                 23          1             2 % Reduced Fat  Milk  ...   \n",
       "\n",
       "             price_range_loc     busiest_day     busiest_days  \\\n",
       "10030345  High-range product  Regularly busy   Regularly busy   \n",
       "10030346  High-range product  Regularly busy   Regularly busy   \n",
       "10030347  High-range product  Regularly busy   Regularly busy   \n",
       "10030348  High-range product     Busiest day     Busiest days   \n",
       "10030349  High-range product  Regularly busy     Busiest days   \n",
       "...                      ...             ...              ...   \n",
       "29166209  High-range product     Busiest day     Busiest days   \n",
       "29166210  High-range product     Busiest day     Busiest days   \n",
       "29166211  High-range product  Regularly busy  Least busy days   \n",
       "29166212  High-range product  Regularly busy  Least busy days   \n",
       "29166213  High-range product     Busiest day     Busiest days   \n",
       "\n",
       "         busiest_period_of_day max_order      loyalty_flag   mean_price  \\\n",
       "10030345           Most orders        40  Regular customer   108.648299   \n",
       "10030346           Most orders        40  Regular customer   108.648299   \n",
       "10030347        Average orders         4      New customer  1154.792308   \n",
       "10030348        Average orders         4      New customer  1154.792308   \n",
       "10030349        Average orders        16  Regular customer   114.426619   \n",
       "...                        ...       ...               ...          ...   \n",
       "29166209        Average orders        39  Regular customer  1106.743956   \n",
       "29166210           Most orders        39  Regular customer  1106.743956   \n",
       "29166211           Most orders        15  Regular customer   451.153540   \n",
       "29166212        Average orders        12  Regular customer  1178.381871   \n",
       "29166213           Most orders        12  Regular customer  1178.381871   \n",
       "\n",
       "         spending_flag  median_of_days         frequency_flag  \n",
       "10030345  High spender             5.0      Frequent customer  \n",
       "10030346  High spender             5.0      Frequent customer  \n",
       "10030347  High spender            12.0       Regular customer  \n",
       "10030348  High spender            12.0       Regular customer  \n",
       "10030349  High spender            23.0  Non-frequent customer  \n",
       "...                ...             ...                    ...  \n",
       "29166209  High spender             4.0      Frequent customer  \n",
       "29166210  High spender             4.0      Frequent customer  \n",
       "29166211  High spender             5.0      Frequent customer  \n",
       "29166212  High spender            12.0       Regular customer  \n",
       "29166213  High spender            12.0       Regular customer  \n",
       "\n",
       "[5127 rows x 24 columns]"
      ]
     },
     "execution_count": 6,
     "metadata": {},
     "output_type": "execute_result"
    }
   ],
   "source": [
    "# Determine values above a certain threshold\n",
    "ords_prods_merge.loc[ords_prods_merge['prices'] > 100]"
   ]
  },
  {
   "cell_type": "code",
   "execution_count": 7,
   "id": "4d5edf62",
   "metadata": {},
   "outputs": [],
   "source": [
    "# Mark the outliers as missing\n",
    "ords_prods_merge.loc[ords_prods_merge['prices'] > 100, 'prices'] = np.nan"
   ]
  },
  {
   "cell_type": "code",
   "execution_count": 8,
   "id": "6125fa87",
   "metadata": {},
   "outputs": [
    {
     "data": {
      "text/plain": [
       "25.0"
      ]
     },
     "execution_count": 8,
     "metadata": {},
     "output_type": "execute_result"
    }
   ],
   "source": [
    "# Generate the max-value in the prices column to check whether the replacement was successful\n",
    "ords_prods_merge['prices'].max()"
   ]
  },
  {
   "cell_type": "markdown",
   "id": "ad3dbaf7",
   "metadata": {},
   "source": [
    "## Creating a histogram after data cleaning"
   ]
  },
  {
   "cell_type": "code",
   "execution_count": 22,
   "id": "3249e341",
   "metadata": {},
   "outputs": [
    {
     "data": {
      "image/png": "[encoded data removed]",
      "text/plain": [
       "<Figure size 640x480 with 1 Axes>"
      ]
     },
     "metadata": {},
     "output_type": "display_data"
    }
   ],
   "source": [
    "hist = ords_prods_merge['prices'].plot.hist(bins = 25)"
   ]
  },
  {
   "cell_type": "code",
   "execution_count": 24,
   "id": "15f28858",
   "metadata": {},
   "outputs": [
    {
     "data": {
      "image/png": "[encoded data removed]",
      "text/plain": [
       "<Figure size 640x480 with 1 Axes>"
      ]
     },
     "metadata": {},
     "output_type": "display_data"
    }
   ],
   "source": [
    "# Increasing the level of granularity in the histogram\n",
    "hist_2 = ords_prods_merge['prices'].plot.hist(bins = 70)"
   ]
  },
  {
   "cell_type": "code",
   "execution_count": 25,
   "id": "4336c9ee",
   "metadata": {},
   "outputs": [],
   "source": [
    "# Export the chart\n",
    "hist_2.figure.savefig(os.path.join(path, '04 Analysis', 'Visualizations', 'hist_orders_prices.png'))"
   ]
  },
  {
   "cell_type": "markdown",
   "id": "c91c9ea7",
   "metadata": {},
   "source": [
    "## Creating a scatterplot after data cleaning"
   ]
  },
  {
   "cell_type": "code",
   "execution_count": 10,
   "id": "a048d24c",
   "metadata": {
    "scrolled": true
   },
   "outputs": [
    {
     "data": {
      "image/png": "[encoded data removed]",
      "text/plain": [
       "<Figure size 640x480 with 1 Axes>"
      ]
     },
     "metadata": {},
     "output_type": "display_data"
    }
   ],
   "source": [
    "scat_prices = sns.scatterplot(x = 'prices', y = 'prices', data = ords_prods_merge)"
   ]
  },
  {
   "cell_type": "code",
   "execution_count": 11,
   "id": "11dc226a",
   "metadata": {},
   "outputs": [],
   "source": [
    "# Export the chart\n",
    "scat_prices.figure.savefig(os.path.join(path, '04 Analysis', 'Visualizations', 'scat_prices.png'))"
   ]
  },
  {
   "cell_type": "markdown",
   "id": "db2e8d40",
   "metadata": {},
   "source": [
    "# Sampling Data"
   ]
  },
  {
   "cell_type": "code",
   "execution_count": 29,
   "id": "b45ccd4a",
   "metadata": {},
   "outputs": [],
   "source": [
    "# Creating a list holding True/False values to the test np.random.rant() <= 0.7\n",
    "np.random.seed(4)\n",
    "dev = np.random.rand(len(ords_prods_merge)) <= 0.7"
   ]
  },
  {
   "cell_type": "code",
   "execution_count": 30,
   "id": "7b6f117b",
   "metadata": {},
   "outputs": [
    {
     "data": {
      "text/plain": [
       "array([False,  True, False, ...,  True,  True,  True])"
      ]
     },
     "execution_count": 30,
     "metadata": {},
     "output_type": "execute_result"
    }
   ],
   "source": [
    "dev"
   ]
  },
  {
   "cell_type": "code",
   "execution_count": 31,
   "id": "2f2615c4",
   "metadata": {},
   "outputs": [
    {
     "data": {
      "text/plain": [
       "array([0.93546686, 0.06557465, 0.85698584, 0.24456371, 0.22683171,\n",
       "       0.17068366, 0.27008946, 0.52534234, 0.83151571, 0.78153402])"
      ]
     },
     "execution_count": 31,
     "metadata": {},
     "output_type": "execute_result"
    }
   ],
   "source": [
    "# np.random.rand() function produces a list of random numbers between 0 and 1\n",
    "np.random.rand(10)"
   ]
  },
  {
   "cell_type": "code",
   "execution_count": 32,
   "id": "39cef128",
   "metadata": {},
   "outputs": [],
   "source": [
    "# Store 70% of the sample in the dataframe big\n",
    "big = ords_prods_merge[dev]"
   ]
  },
  {
   "cell_type": "code",
   "execution_count": 33,
   "id": "ff0a21c1",
   "metadata": {},
   "outputs": [],
   "source": [
    "# Store 30% of the sample in the dataframe small\n",
    "small = ords_prods_merge[~dev]"
   ]
  },
  {
   "cell_type": "code",
   "execution_count": 35,
   "id": "018c558c",
   "metadata": {},
   "outputs": [
    {
     "data": {
      "text/plain": [
       "32404859"
      ]
     },
     "execution_count": 35,
     "metadata": {},
     "output_type": "execute_result"
    }
   ],
   "source": [
    "# Check the accuracy of results\n",
    "len(ords_prods_merge)"
   ]
  },
  {
   "cell_type": "code",
   "execution_count": 36,
   "id": "73c8cb14",
   "metadata": {},
   "outputs": [
    {
     "data": {
      "text/plain": [
       "32404859"
      ]
     },
     "execution_count": 36,
     "metadata": {},
     "output_type": "execute_result"
    }
   ],
   "source": [
    "len(big) + len(small)"
   ]
  },
  {
   "cell_type": "markdown",
   "id": "1eda1d45",
   "metadata": {},
   "source": [
    "# Creating a line chart"
   ]
  },
  {
   "cell_type": "code",
   "execution_count": 37,
   "id": "16634deb",
   "metadata": {},
   "outputs": [],
   "source": [
    "# Reducing samples to only those columns necessary for the chart\n",
    "df_2 = small[['orders_day_of_week', 'prices']]"
   ]
  },
  {
   "cell_type": "code",
   "execution_count": 38,
   "id": "9995288f",
   "metadata": {},
   "outputs": [
    {
     "data": {
      "image/png": "[encoded data removed]",
      "text/plain": [
       "<Figure size 640x480 with 1 Axes>"
      ]
     },
     "metadata": {},
     "output_type": "display_data"
    }
   ],
   "source": [
    "line = sns.lineplot(data = df_2, x = 'orders_day_of_week', y = 'prices')"
   ]
  },
  {
   "cell_type": "code",
   "execution_count": 39,
   "id": "4907de8b",
   "metadata": {},
   "outputs": [],
   "source": [
    "# Export the chart\n",
    "line.figure.savefig(os.path.join(path, '04 Analysis', 'Visualizations', 'line_orders_dow_prices.png'))"
   ]
  },
  {
   "cell_type": "code",
   "execution_count": null,
   "id": "eeaafbf5",
   "metadata": {},
   "outputs": [],
   "source": []
  }
 ],
 "metadata": {
  "kernelspec": {
   "display_name": "Python 3 (ipykernel)",
   "language": "python",
   "name": "python3"
  },
  "language_info": {
   "codemirror_mode": {
    "name": "ipython",
    "version": 3
   },
   "file_extension": ".py",
   "mimetype": "text/x-python",
   "name": "python",
   "nbconvert_exporter": "python",
   "pygments_lexer": "ipython3",
   "version": "3.10.11"
  }
 },
 "nbformat": 4,
 "nbformat_minor": 5
}
